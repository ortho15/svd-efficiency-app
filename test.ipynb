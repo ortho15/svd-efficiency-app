{
 "cells": [
  {
   "cell_type": "code",
   "execution_count": 23,
   "metadata": {},
   "outputs": [],
   "source": [
    "import numpy as np\n",
    "from PIL import Image"
   ]
  },
  {
   "cell_type": "code",
   "execution_count": 53,
   "metadata": {},
   "outputs": [
    {
     "name": "stdout",
     "output_type": "stream",
     "text": [
      "Us:\n",
      " [[-0.07584099 -0.08528297  0.07908183 -0.9903136 ]\n",
      " [-0.36305855 -0.8992      0.21145449  0.12212634]\n",
      " [-0.23223517 -0.13874352 -0.96156285 -0.04705252]\n",
      " [-0.8991682   0.40609901  0.1563008   0.04637019]]\n",
      "Ss:\n",
      " [99.48881387 27.67586817  6.69336097  0.47027192]\n",
      "Vts:\n",
      " [[-0.08363751 -0.07098899 -0.14571018 -0.98322626]\n",
      " [-0.40873791 -0.46640781 -0.76317694  0.18154346]\n",
      " [-0.85531445 -0.08537177  0.51101729  0.00318991]\n",
      " [ 0.30720558 -0.87757392  0.36768305 -0.01726051]]\n"
     ]
    }
   ],
   "source": [
    "# img = Image.open(\"./assets/plane.png\")\n",
    "# R = np.array(img)[:,:,0]\n",
    "R = np.array([\n",
    "    [1,2,3,7],\n",
    "    [12,14,25,31],\n",
    "    [9,4,3,22],\n",
    "    [2,1,5,90]\n",
    "    ], dtype=np.float64)\n",
    "\n",
    "Us, Ss, Vts = np.linalg.svd(R)\n",
    "print(\"Us:\\n\", Us)\n",
    "print(\"Ss:\\n\", Ss)\n",
    "print(\"Vts:\\n\", Vts)"
   ]
  },
  {
   "cell_type": "code",
   "execution_count": 25,
   "metadata": {},
   "outputs": [],
   "source": [
    "R = np.array(R, dtype=np.float64)"
   ]
  },
  {
   "cell_type": "code",
   "execution_count": 26,
   "metadata": {},
   "outputs": [],
   "source": [
    "def matrix_to_img(R):\n",
    "    full = np.empty((R.shape[0], R.shape[1], 3), dtype=np.uint8)\n",
    "    full[:, :, 0] = R\n",
    "    full[:, :, 1] = 0\n",
    "    full[:, :, 2] = 0\n",
    "    img = Image.fromarray(full)\n",
    "    img.save('./assets/reduced.png')"
   ]
  },
  {
   "cell_type": "code",
   "execution_count": 27,
   "metadata": {},
   "outputs": [],
   "source": [
    "matrix_to_img(R)"
   ]
  },
  {
   "cell_type": "code",
   "execution_count": 28,
   "metadata": {},
   "outputs": [
    {
     "data": {
      "text/plain": [
       "2"
      ]
     },
     "execution_count": 28,
     "metadata": {},
     "output_type": "execute_result"
    }
   ],
   "source": [
    "R.ndim"
   ]
  },
  {
   "cell_type": "code",
   "execution_count": 29,
   "metadata": {},
   "outputs": [
    {
     "data": {
      "text/plain": [
       "(4, 4)"
      ]
     },
     "execution_count": 29,
     "metadata": {},
     "output_type": "execute_result"
    }
   ],
   "source": [
    "R.shape"
   ]
  },
  {
   "cell_type": "code",
   "execution_count": 30,
   "metadata": {},
   "outputs": [
    {
     "data": {
      "text/plain": [
       "dtype('float64')"
      ]
     },
     "execution_count": 30,
     "metadata": {},
     "output_type": "execute_result"
    }
   ],
   "source": [
    "R.dtype"
   ]
  },
  {
   "cell_type": "code",
   "execution_count": 31,
   "metadata": {},
   "outputs": [
    {
     "data": {
      "text/plain": [
       "(4, 4)"
      ]
     },
     "execution_count": 31,
     "metadata": {},
     "output_type": "execute_result"
    }
   ],
   "source": [
    "R.T.shape"
   ]
  },
  {
   "cell_type": "code",
   "execution_count": 32,
   "metadata": {},
   "outputs": [
    {
     "data": {
      "text/plain": [
       "2"
      ]
     },
     "execution_count": 32,
     "metadata": {},
     "output_type": "execute_result"
    }
   ],
   "source": [
    "R.T.ndim"
   ]
  },
  {
   "cell_type": "code",
   "execution_count": 33,
   "metadata": {},
   "outputs": [
    {
     "data": {
      "text/plain": [
       "(4, 4)"
      ]
     },
     "execution_count": 33,
     "metadata": {},
     "output_type": "execute_result"
    }
   ],
   "source": [
    "AtA = R.T @ R\n",
    "AtA.shape"
   ]
  },
  {
   "cell_type": "code",
   "execution_count": 34,
   "metadata": {},
   "outputs": [],
   "source": [
    "n = AtA.shape[0]"
   ]
  },
  {
   "cell_type": "code",
   "execution_count": 35,
   "metadata": {},
   "outputs": [
    {
     "data": {
      "text/plain": [
       "array([[ 230.,  208.,  340.,  757.],\n",
       "       [ 208.,  217.,  373.,  626.],\n",
       "       [ 340.,  373.,  668., 1312.],\n",
       "       [ 757.,  626., 1312., 9594.]])"
      ]
     },
     "execution_count": 35,
     "metadata": {},
     "output_type": "execute_result"
    }
   ],
   "source": [
    "AtA"
   ]
  },
  {
   "cell_type": "code",
   "execution_count": 36,
   "metadata": {},
   "outputs": [],
   "source": [
    "matrix_to_img(AtA)"
   ]
  },
  {
   "cell_type": "code",
   "execution_count": 37,
   "metadata": {},
   "outputs": [],
   "source": [
    "for i in range(n):\n",
    "    for j in range(n):\n",
    "        assert AtA[i,j] == AtA[j,i]"
   ]
  },
  {
   "cell_type": "code",
   "execution_count": 38,
   "metadata": {},
   "outputs": [],
   "source": [
    "assert np.allclose(AtA.T, AtA)"
   ]
  },
  {
   "cell_type": "code",
   "execution_count": 119,
   "metadata": {},
   "outputs": [],
   "source": [
    "eigenValues, eigenVectors = np.linalg.eig(AtA)"
   ]
  },
  {
   "cell_type": "code",
   "execution_count": 120,
   "metadata": {},
   "outputs": [
    {
     "data": {
      "text/plain": [
       "array([[ 0.08363751,  0.40873791, -0.85531445,  0.30720558],\n",
       "       [ 0.07098899,  0.46640781, -0.08537177, -0.87757392],\n",
       "       [ 0.14571018,  0.76317694,  0.51101729,  0.36768305],\n",
       "       [ 0.98322626, -0.18154346,  0.00318991, -0.01726051]])"
      ]
     },
     "execution_count": 120,
     "metadata": {},
     "output_type": "execute_result"
    }
   ],
   "source": [
    "eigenVectors"
   ]
  },
  {
   "cell_type": "code",
   "execution_count": 121,
   "metadata": {},
   "outputs": [
    {
     "data": {
      "text/plain": [
       "array([9.89802408e+03, 7.65953679e+02, 4.48010810e+01, 2.21155674e-01])"
      ]
     },
     "execution_count": 121,
     "metadata": {},
     "output_type": "execute_result"
    }
   ],
   "source": [
    "eigenValues"
   ]
  },
  {
   "cell_type": "code",
   "execution_count": 122,
   "metadata": {},
   "outputs": [],
   "source": [
    "idx = eigenValues.argsort()[::-1]"
   ]
  },
  {
   "cell_type": "code",
   "execution_count": 123,
   "metadata": {},
   "outputs": [
    {
     "data": {
      "text/plain": [
       "array([0, 1, 2, 3])"
      ]
     },
     "execution_count": 123,
     "metadata": {},
     "output_type": "execute_result"
    }
   ],
   "source": [
    "idx"
   ]
  },
  {
   "cell_type": "code",
   "execution_count": 124,
   "metadata": {},
   "outputs": [],
   "source": [
    "eigenValuesSorted = eigenValues[idx]"
   ]
  },
  {
   "cell_type": "code",
   "execution_count": 125,
   "metadata": {},
   "outputs": [
    {
     "data": {
      "text/plain": [
       "array([9.89802408e+03, 7.65953679e+02, 4.48010810e+01, 2.21155674e-01])"
      ]
     },
     "execution_count": 125,
     "metadata": {},
     "output_type": "execute_result"
    }
   ],
   "source": [
    "eigenValuesSorted"
   ]
  },
  {
   "cell_type": "code",
   "execution_count": 126,
   "metadata": {},
   "outputs": [],
   "source": [
    "eigenVectorsSorted = eigenVectors[:,idx]"
   ]
  },
  {
   "cell_type": "code",
   "execution_count": 127,
   "metadata": {},
   "outputs": [
    {
     "data": {
      "text/plain": [
       "array([[ 0.08363751,  0.40873791, -0.85531445,  0.30720558],\n",
       "       [ 0.07098899,  0.46640781, -0.08537177, -0.87757392],\n",
       "       [ 0.14571018,  0.76317694,  0.51101729,  0.36768305],\n",
       "       [ 0.98322626, -0.18154346,  0.00318991, -0.01726051]])"
      ]
     },
     "execution_count": 127,
     "metadata": {},
     "output_type": "execute_result"
    }
   ],
   "source": [
    "eigenVectorsSorted"
   ]
  },
  {
   "cell_type": "code",
   "execution_count": 128,
   "metadata": {},
   "outputs": [
    {
     "data": {
      "text/plain": [
       "array([[-0.08363751, -0.07098899, -0.14571018, -0.98322626],\n",
       "       [-0.40873791, -0.46640781, -0.76317694,  0.18154346],\n",
       "       [-0.85531445, -0.08537177,  0.51101729,  0.00318991],\n",
       "       [ 0.30720558, -0.87757392,  0.36768305, -0.01726051]])"
      ]
     },
     "execution_count": 128,
     "metadata": {},
     "output_type": "execute_result"
    }
   ],
   "source": [
    "Vts"
   ]
  },
  {
   "cell_type": "code",
   "execution_count": 75,
   "metadata": {},
   "outputs": [
    {
     "data": {
      "text/plain": [
       "array([[ 0.30720558],\n",
       "       [-0.85531445],\n",
       "       [ 0.40873791],\n",
       "       [ 0.08363751]])"
      ]
     },
     "execution_count": 75,
     "metadata": {},
     "output_type": "execute_result"
    }
   ],
   "source": [
    "VSorted.T[:,[0]]"
   ]
  },
  {
   "cell_type": "code",
   "execution_count": 76,
   "metadata": {},
   "outputs": [
    {
     "data": {
      "text/plain": [
       "array([[-0.98322626],\n",
       "       [ 0.18154346],\n",
       "       [ 0.00318991],\n",
       "       [-0.01726051]])"
      ]
     },
     "execution_count": 76,
     "metadata": {},
     "output_type": "execute_result"
    }
   ],
   "source": [
    "Vts[:,[3]]"
   ]
  },
  {
   "cell_type": "code",
   "execution_count": 109,
   "metadata": {},
   "outputs": [
    {
     "data": {
      "text/plain": [
       "4"
      ]
     },
     "execution_count": 109,
     "metadata": {},
     "output_type": "execute_result"
    }
   ],
   "source": [
    "m = R.shape[0]\n",
    "m"
   ]
  },
  {
   "cell_type": "code",
   "execution_count": 110,
   "metadata": {},
   "outputs": [
    {
     "data": {
      "text/plain": [
       "[99.48881386585735, 27.675868168262394, 6.69336096615802, 0.47027191546013386]"
      ]
     },
     "execution_count": 110,
     "metadata": {},
     "output_type": "execute_result"
    }
   ],
   "source": [
    "import math\n",
    "Singulars = [math.sqrt(x) for x in eigenValuesSorted if x > 0]\n",
    "Singulars"
   ]
  },
  {
   "cell_type": "code",
   "execution_count": 116,
   "metadata": {},
   "outputs": [
    {
     "data": {
      "text/plain": [
       "array([[0., 0., 0., 0.],\n",
       "       [0., 0., 0., 0.],\n",
       "       [0., 0., 0., 0.],\n",
       "       [0., 0., 0., 0.]])"
      ]
     },
     "execution_count": 116,
     "metadata": {},
     "output_type": "execute_result"
    }
   ],
   "source": [
    "U = np.zeros((m,m), dtype=np.float64)\n",
    "U"
   ]
  },
  {
   "cell_type": "code",
   "execution_count": 118,
   "metadata": {},
   "outputs": [
    {
     "name": "stdout",
     "output_type": "stream",
     "text": [
      "[[0.07584099]\n",
      " [0.36305855]\n",
      " [0.23223517]\n",
      " [0.8991682 ]]\n",
      "(4, 1)\n",
      "2\n",
      "[[ 0.08528297]\n",
      " [ 0.8992    ]\n",
      " [ 0.13874352]\n",
      " [-0.40609901]]\n",
      "(4, 1)\n",
      "2\n",
      "[[ 0.07908183]\n",
      " [ 0.21145449]\n",
      " [-0.96156285]\n",
      " [ 0.1563008 ]]\n",
      "(4, 1)\n",
      "2\n",
      "[[-0.9903136 ]\n",
      " [ 0.12212634]\n",
      " [-0.04705252]\n",
      " [ 0.04637019]]\n",
      "(4, 1)\n",
      "2\n"
     ]
    },
    {
     "data": {
      "text/plain": [
       "array([[ 0.07584099,  0.08528297,  0.07908183, -0.9903136 ],\n",
       "       [ 0.36305855,  0.8992    ,  0.21145449,  0.12212634],\n",
       "       [ 0.23223517,  0.13874352, -0.96156285, -0.04705252],\n",
       "       [ 0.8991682 , -0.40609901,  0.1563008 ,  0.04637019]])"
      ]
     },
     "execution_count": 118,
     "metadata": {},
     "output_type": "execute_result"
    }
   ],
   "source": [
    "for i in range(m):\n",
    "    try:\n",
    "        sing = Singulars[i]\n",
    "        v = eigenVectorsSorted[:,[i]]\n",
    "    except IndexError:\n",
    "        break\n",
    "    col = (1/sing) * np.dot(R, v)\n",
    "    print(col)\n",
    "    print(col.shape)\n",
    "    print(col.ndim)\n",
    "    U[:,[i]] = col\n",
    "U"
   ]
  }
 ],
 "metadata": {
  "kernelspec": {
   "display_name": ".venv",
   "language": "python",
   "name": "python3"
  },
  "language_info": {
   "codemirror_mode": {
    "name": "ipython",
    "version": 3
   },
   "file_extension": ".py",
   "mimetype": "text/x-python",
   "name": "python",
   "nbconvert_exporter": "python",
   "pygments_lexer": "ipython3",
   "version": "3.12.0"
  }
 },
 "nbformat": 4,
 "nbformat_minor": 2
}
